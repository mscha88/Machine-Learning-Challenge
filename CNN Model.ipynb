{
 "cells": [
  {
   "cell_type": "code",
   "execution_count": 8,
   "metadata": {},
   "outputs": [
    {
     "name": "stdout",
     "output_type": "stream",
     "text": [
      "Populating the interactive namespace from numpy and matplotlib\n"
     ]
    }
   ],
   "source": [
    "## Load all required packages\n",
    "%pylab inline --no-import-all\n",
    "import numpy as np\n",
    "import numpy\n",
    "import matplotlib.pyplot as plt\n",
    "from sklearn.linear_model import LogisticRegression\n",
    "from sklearn.linear_model import LogisticRegressionCV\n",
    "from sklearn.linear_model import SGDClassifier\n",
    "from sklearn.neural_network import MLPClassifier\n",
    "from sklearn.ensemble import RandomForestClassifier\n",
    "from sklearn.model_selection import KFold\n",
    "from sklearn.model_selection import train_test_split\n",
    "from sklearn.preprocessing import StandardScaler\n",
    "from sklearn.preprocessing import LabelBinarizer\n",
    "from sklearn.preprocessing import MinMaxScaler\n",
    "from sklearn.metrics import accuracy_score\n",
    "from sklearn import metrics\n",
    "from keras.models import Sequential\n",
    "from keras.layers.core import Dense, Dropout, Activation\n",
    "from keras.optimizers import Adam, SGD\n",
    "from keras.utils import to_categorical\n",
    "from keras.metrics import CategoricalAccuracy, categorical_accuracy\n",
    "import seaborn as sns\n",
    "plt.style.use('ggplot')"
   ]
  },
  {
   "cell_type": "code",
   "execution_count": 65,
   "metadata": {},
   "outputs": [],
   "source": [
    "from keras import Sequential\n",
    "from keras import layers\n",
    "from keras import models\n",
    "\n",
    "### PUT YOUR CODE HERE ###\n",
    "# Create a sequential model\n",
    "model = Sequential()\n",
    "\n",
    "\n",
    "model = models.Sequential()\n",
    "model.add(layers.Conv2D(32, (3, 3), activation='relu', input_shape=(28, 28, 1)))\n",
    "model.add(layers.MaxPooling2D((2, 2)))\n",
    "model.add(layers.Conv2D(64, (3, 3), activation='relu'))\n",
    "model.add(layers.MaxPooling2D((2, 2)))\n",
    "model.add(layers.Conv2D(64, (3, 3), activation='relu'))"
   ]
  },
  {
   "cell_type": "code",
   "execution_count": 37,
   "metadata": {},
   "outputs": [
    {
     "name": "stdout",
     "output_type": "stream",
     "text": [
      "Model: \"sequential_5\"\n",
      "_________________________________________________________________\n",
      "Layer (type)                 Output Shape              Param #   \n",
      "=================================================================\n",
      "conv2d_4 (Conv2D)            (None, 26, 26, 32)        320       \n",
      "_________________________________________________________________\n",
      "max_pooling2d_3 (MaxPooling2 (None, 13, 13, 32)        0         \n",
      "_________________________________________________________________\n",
      "conv2d_5 (Conv2D)            (None, 11, 11, 64)        18496     \n",
      "_________________________________________________________________\n",
      "max_pooling2d_4 (MaxPooling2 (None, 5, 5, 64)          0         \n",
      "_________________________________________________________________\n",
      "conv2d_6 (Conv2D)            (None, 3, 3, 64)          36928     \n",
      "=================================================================\n",
      "Total params: 55,744\n",
      "Trainable params: 55,744\n",
      "Non-trainable params: 0\n",
      "_________________________________________________________________\n"
     ]
    }
   ],
   "source": [
    "model.summary()"
   ]
  },
  {
   "cell_type": "code",
   "execution_count": 66,
   "metadata": {},
   "outputs": [],
   "source": [
    "### PUT YOUR CODE HERE ###\n",
    "# Add a Flatten layer to the model\n",
    "model.add(layers.Flatten())\n",
    "# Add a Dense layer with 64 units and relu activation\n",
    "model.add(layers.Dense(64, activation='relu'))\n",
    "# Add the last Dense layer.\n",
    "model.add(layers.Dense(26, activation='softmax'))\n",
    "### END ###"
   ]
  },
  {
   "cell_type": "code",
   "execution_count": 67,
   "metadata": {},
   "outputs": [],
   "source": [
    "lr = 0.001\n",
    "opt = Adam(lr)\n",
    "model.compile(optimizer=opt, loss='categorical_crossentropy', metrics = [\"accuracy\", \"categorical_accuracy\"])"
   ]
  },
  {
   "cell_type": "code",
   "execution_count": 68,
   "metadata": {},
   "outputs": [],
   "source": [
    "## Load data\n",
    "with np.load(\"training-dataset.npz\") as data:\n",
    "    img = data[\"x\"] ## test dataset\n",
    "    lbl = data[\"y\"]"
   ]
  },
  {
   "cell_type": "code",
   "execution_count": 69,
   "metadata": {},
   "outputs": [
    {
     "name": "stdout",
     "output_type": "stream",
     "text": [
      "(124800, 784)\n",
      "(124800,)\n",
      "<class 'numpy.ndarray'>\n",
      "<class 'numpy.ndarray'>\n"
     ]
    }
   ],
   "source": [
    "## Check shapes and types of the dataset\n",
    "print(img.shape)\n",
    "print(lbl.shape)\n",
    "print(type(img))\n",
    "print(type(lbl))"
   ]
  },
  {
   "cell_type": "code",
   "execution_count": 70,
   "metadata": {},
   "outputs": [],
   "source": [
    "## Split into train and val sets (80 vs 20%)\n",
    "x_train, x_test, y_train, y_test = train_test_split(img, lbl, test_size=0.2, random_state=0)"
   ]
  },
  {
   "cell_type": "code",
   "execution_count": 71,
   "metadata": {},
   "outputs": [
    {
     "name": "stdout",
     "output_type": "stream",
     "text": [
      "(99840, 784)\n",
      "(99840,)\n",
      "(24960, 784)\n",
      "(24960,)\n"
     ]
    }
   ],
   "source": [
    "# Check the shape after the split\n",
    "print(x_train.shape)\n",
    "print(y_train.shape)\n",
    "print(x_test.shape)\n",
    "print(y_test.shape)"
   ]
  },
  {
   "cell_type": "code",
   "execution_count": 72,
   "metadata": {},
   "outputs": [
    {
     "name": "stdout",
     "output_type": "stream",
     "text": [
      "(99840, 28, 28, 1)\n"
     ]
    }
   ],
   "source": [
    "x_train = x_train.reshape(x_train.shape[0], 28, 28, 1)\n",
    "train_images = x_train.astype('float32') / 255\n",
    "print(x_train.shape)"
   ]
  },
  {
   "cell_type": "code",
   "execution_count": 73,
   "metadata": {},
   "outputs": [
    {
     "name": "stdout",
     "output_type": "stream",
     "text": [
      "(24960, 28, 28, 1)\n"
     ]
    }
   ],
   "source": [
    "x_test = x_test.reshape(x_test.shape[0], 28, 28, 1)\n",
    "test_images = x_test.astype('float32') / 255\n",
    "print(x_test.shape)"
   ]
  },
  {
   "cell_type": "code",
   "execution_count": 74,
   "metadata": {},
   "outputs": [],
   "source": [
    "## Encode categorical label data\n",
    "\n",
    "lb = LabelBinarizer()\n",
    "train_labels = lb.fit_transform(y_train)\n",
    "test_labels = lb.fit_transform(y_test)"
   ]
  },
  {
   "cell_type": "code",
   "execution_count": 75,
   "metadata": {},
   "outputs": [
    {
     "name": "stdout",
     "output_type": "stream",
     "text": [
      "(99840, 28, 28, 1)\n",
      "(99840, 26)\n",
      "(24960, 28, 28, 1)\n",
      "(24960, 26)\n"
     ]
    }
   ],
   "source": [
    "# Check the shape after the split\n",
    "print(train_images.shape)\n",
    "print(train_labels.shape)\n",
    "print(test_images.shape)\n",
    "print(test_labels.shape)"
   ]
  },
  {
   "cell_type": "code",
   "execution_count": 62,
   "metadata": {},
   "outputs": [
    {
     "name": "stdout",
     "output_type": "stream",
     "text": [
      "[0 0 0 0 0 0 0 0 0 0 0 0 0 0 0 0 0 1 0 0 0 0 0 0 0 0]\n"
     ]
    }
   ],
   "source": [
    "print(train_labels[0])"
   ]
  },
  {
   "cell_type": "code",
   "execution_count": 76,
   "metadata": {},
   "outputs": [
    {
     "name": "stdout",
     "output_type": "stream",
     "text": [
      "WARNING:tensorflow:From C:\\Users\\meret\\Anaconda3\\lib\\site-packages\\tensorflow\\python\\ops\\math_ops.py:3066: to_int32 (from tensorflow.python.ops.math_ops) is deprecated and will be removed in a future version.\n",
      "Instructions for updating:\n",
      "Use tf.cast instead.\n",
      "Train on 99840 samples, validate on 24960 samples\n",
      "Epoch 1/5\n",
      "99840/99840 [==============================] - 169s 2ms/step - loss: 0.6882 - accuracy: 0.7888 - categorical_accuracy: 0.7888 - val_loss: 0.3676 - val_accuracy: 0.8811 - val_categorical_accuracy: 0.8811\n",
      "Epoch 2/5\n",
      "99840/99840 [==============================] - 189s 2ms/step - loss: 0.3041 - accuracy: 0.9004 - categorical_accuracy: 0.9004 - val_loss: 0.2858 - val_accuracy: 0.9060 - val_categorical_accuracy: 0.9060\n",
      "Epoch 3/5\n",
      "99840/99840 [==============================] - 189s 2ms/step - loss: 0.2459 - accuracy: 0.9181 - categorical_accuracy: 0.9181 - val_loss: 0.2531 - val_accuracy: 0.9164 - val_categorical_accuracy: 0.9164\n",
      "Epoch 4/5\n",
      "99840/99840 [==============================] - 219s 2ms/step - loss: 0.2133 - accuracy: 0.9288 - categorical_accuracy: 0.9288 - val_loss: 0.2386 - val_accuracy: 0.9213 - val_categorical_accuracy: 0.9213\n",
      "Epoch 5/5\n",
      "99840/99840 [==============================] - 219s 2ms/step - loss: 0.1947 - accuracy: 0.9337 - categorical_accuracy: 0.9337 - val_loss: 0.2233 - val_accuracy: 0.9255 - val_categorical_accuracy: 0.9255\n"
     ]
    }
   ],
   "source": [
    "history = model.fit(train_images, train_labels,\n",
    "          batch_size=128, epochs=5,\n",
    "          verbose=1,\n",
    "          validation_data=(test_images, test_labels))"
   ]
  },
  {
   "cell_type": "code",
   "execution_count": 80,
   "metadata": {},
   "outputs": [
    {
     "name": "stdout",
     "output_type": "stream",
     "text": [
      "Train Loss 0.17815348450333263\n",
      "Train Accuracy 0.939182698726654\n",
      "\n",
      "Validation Loss 0.22333427120525484\n",
      "Validation Accuracy 0.9254807829856873\n"
     ]
    }
   ],
   "source": [
    "loss_and_metrics_train = model.evaluate(train_images, train_labels, verbose=2)\n",
    "loss_and_metrics = model.evaluate(test_images, test_labels, verbose=2)\n",
    "\n",
    "print(\"Train Loss\", loss_and_metrics_train[0])\n",
    "print(\"Train Accuracy\", loss_and_metrics_train[1])\n",
    "print()\n",
    "print(\"Validation Loss\", loss_and_metrics[0])\n",
    "print(\"Validation Accuracy\", loss_and_metrics[1])"
   ]
  },
  {
   "cell_type": "code",
   "execution_count": 82,
   "metadata": {},
   "outputs": [],
   "source": [
    "loss = history.history['loss']\n",
    "val_loss = history.history['val_loss']\n",
    "acc = history.history['accuracy']\n",
    "val_acc = history.history['val_accuracy']"
   ]
  },
  {
   "cell_type": "code",
   "execution_count": 83,
   "metadata": {},
   "outputs": [
    {
     "data": {
      "image/png": "[encoded data removed]",
      "text/plain": [
       "<Figure size 432x288 with 1 Axes>"
      ]
     },
     "metadata": {},
     "output_type": "display_data"
    }
   ],
   "source": [
    "epochs = range(1, 6)\n",
    "\n",
    "plt.plot(epochs, loss, 'ko', label = 'Training Loss')\n",
    "plt.plot(epochs, val_loss, 'k', label = 'Validation Loss')\n",
    "plt.xlabel('Epochs')\n",
    "plt.ylabel('Loss')\n",
    "plt.title('Training and Validation Loss')\n",
    "plt.legend()\n",
    "plt.savefig('Training and Validation Loss.png')"
   ]
  },
  {
   "cell_type": "code",
   "execution_count": 84,
   "metadata": {},
   "outputs": [
    {
     "data": {
      "image/png": "[encoded data removed]",
      "text/plain": [
       "<Figure size 432x288 with 1 Axes>"
      ]
     },
     "metadata": {},
     "output_type": "display_data"
    }
   ],
   "source": [
    "plt.plot(epochs, acc, 'yo', label = 'Training Accuracy')\n",
    "plt.plot(epochs, val_acc, 'y', label = 'Validation Accuracy')\n",
    "plt.xlabel('Epochs')\n",
    "plt.ylabel('Accuracy')\n",
    "plt.title('Training and Validation Accuracy')\n",
    "plt.legend()\n",
    "plt.savefig('Training and Validation Accuracy.png')"
   ]
  },
  {
   "cell_type": "code",
   "execution_count": null,
   "metadata": {},
   "outputs": [],
   "source": []
  },
  {
   "cell_type": "code",
   "execution_count": null,
   "metadata": {},
   "outputs": [],
   "source": []
  },
  {
   "cell_type": "code",
   "execution_count": null,
   "metadata": {},
   "outputs": [],
   "source": []
  },
  {
   "cell_type": "code",
   "execution_count": null,
   "metadata": {},
   "outputs": [],
   "source": []
  },
  {
   "cell_type": "code",
   "execution_count": null,
   "metadata": {},
   "outputs": [],
   "source": []
  },
  {
   "cell_type": "code",
   "execution_count": null,
   "metadata": {},
   "outputs": [],
   "source": []
  },
  {
   "cell_type": "code",
   "execution_count": null,
   "metadata": {},
   "outputs": [],
   "source": []
  }
 ],
 "metadata": {
  "kernelspec": {
   "display_name": "Python 3",
   "language": "python",
   "name": "python3"
  },
  "language_info": {
   "codemirror_mode": {
    "name": "ipython",
    "version": 3
   },
   "file_extension": ".py",
   "mimetype": "text/x-python",
   "name": "python",
   "nbconvert_exporter": "python",
   "pygments_lexer": "ipython3",
   "version": "3.6.5"
  }
 },
 "nbformat": 4,
 "nbformat_minor": 2
}
